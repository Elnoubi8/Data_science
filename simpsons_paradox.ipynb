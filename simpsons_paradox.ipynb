{
  "nbformat": 4,
  "nbformat_minor": 0,
  "metadata": {
    "kernelspec": {
      "display_name": "Python 3",
      "language": "python",
      "name": "python3"
    },
    "language_info": {
      "codemirror_mode": {
        "name": "ipython",
        "version": 3
      },
      "file_extension": ".py",
      "mimetype": "text/x-python",
      "name": "python",
      "nbconvert_exporter": "python",
      "pygments_lexer": "ipython3",
      "version": "3.6.3"
    },
    "colab": {
      "name": "simpsons_paradox.ipynb",
      "provenance": [],
      "collapsed_sections": [],
      "toc_visible": true,
      "include_colab_link": true
    }
  },
  "cells": [
    {
      "cell_type": "markdown",
      "metadata": {
        "id": "view-in-github",
        "colab_type": "text"
      },
      "source": [
        "<a href=\"https://colab.research.google.com/github/Elnoubi8/Data_science/blob/Exploratory_Data_Analysis_With-_Python%26Pandas/simpsons_paradox.ipynb\" target=\"_parent\"><img src=\"https://colab.research.google.com/assets/colab-badge.svg\" alt=\"Open In Colab\"/></a>"
      ]
    },
    {
      "cell_type": "markdown",
      "metadata": {
        "collapsed": true,
        "id": "bkBcJjkQqvkC"
      },
      "source": [
        "# Simpson's Paradox\n",
        "Use `admission_data.csv` for this exercise."
      ]
    },
    {
      "cell_type": "code",
      "metadata": {
        "colab": {
          "base_uri": "https://localhost:8080/",
          "height": 204
        },
        "id": "7uQSKTH6qvkO",
        "outputId": "608e404f-3527-4c79-f6b3-e7a6be0e4c26"
      },
      "source": [
        "# Load and view first few lines of dataset\n",
        "import pandas as pd\n",
        "df= pd.read_csv('admission_data.csv')\n",
        "tot=df.shape[0]\n",
        "df.head()\n"
      ],
      "execution_count": null,
      "outputs": [
        {
          "output_type": "execute_result",
          "data": {
            "text/html": [
              "<div>\n",
              "<style scoped>\n",
              "    .dataframe tbody tr th:only-of-type {\n",
              "        vertical-align: middle;\n",
              "    }\n",
              "\n",
              "    .dataframe tbody tr th {\n",
              "        vertical-align: top;\n",
              "    }\n",
              "\n",
              "    .dataframe thead th {\n",
              "        text-align: right;\n",
              "    }\n",
              "</style>\n",
              "<table border=\"1\" class=\"dataframe\">\n",
              "  <thead>\n",
              "    <tr style=\"text-align: right;\">\n",
              "      <th></th>\n",
              "      <th>student_id</th>\n",
              "      <th>gender</th>\n",
              "      <th>major</th>\n",
              "      <th>admitted</th>\n",
              "    </tr>\n",
              "  </thead>\n",
              "  <tbody>\n",
              "    <tr>\n",
              "      <th>0</th>\n",
              "      <td>35377</td>\n",
              "      <td>female</td>\n",
              "      <td>Chemistry</td>\n",
              "      <td>False</td>\n",
              "    </tr>\n",
              "    <tr>\n",
              "      <th>1</th>\n",
              "      <td>56105</td>\n",
              "      <td>male</td>\n",
              "      <td>Physics</td>\n",
              "      <td>True</td>\n",
              "    </tr>\n",
              "    <tr>\n",
              "      <th>2</th>\n",
              "      <td>31441</td>\n",
              "      <td>female</td>\n",
              "      <td>Chemistry</td>\n",
              "      <td>False</td>\n",
              "    </tr>\n",
              "    <tr>\n",
              "      <th>3</th>\n",
              "      <td>51765</td>\n",
              "      <td>male</td>\n",
              "      <td>Physics</td>\n",
              "      <td>True</td>\n",
              "    </tr>\n",
              "    <tr>\n",
              "      <th>4</th>\n",
              "      <td>53714</td>\n",
              "      <td>female</td>\n",
              "      <td>Physics</td>\n",
              "      <td>True</td>\n",
              "    </tr>\n",
              "  </tbody>\n",
              "</table>\n",
              "</div>"
            ],
            "text/plain": [
              "   student_id  gender      major  admitted\n",
              "0       35377  female  Chemistry     False\n",
              "1       56105    male    Physics      True\n",
              "2       31441  female  Chemistry     False\n",
              "3       51765    male    Physics      True\n",
              "4       53714  female    Physics      True"
            ]
          },
          "metadata": {
            "tags": []
          },
          "execution_count": 1
        }
      ]
    },
    {
      "cell_type": "markdown",
      "metadata": {
        "id": "G726D8XRqvkR"
      },
      "source": [
        "### Proportion and admission rate for each gender"
      ]
    },
    {
      "cell_type": "code",
      "metadata": {
        "id": "fYIn6AQTqvkS",
        "colab": {
          "base_uri": "https://localhost:8080/"
        },
        "outputId": "c029f642-0d4c-4522-946a-127835d8eb4a"
      },
      "source": [
        "# Proportion of students that are female\n",
        "len(df[df['gender']=='female'])/len(df['gender'])"
      ],
      "execution_count": 3,
      "outputs": [
        {
          "output_type": "execute_result",
          "data": {
            "text/plain": [
              "0.514"
            ]
          },
          "metadata": {
            "tags": []
          },
          "execution_count": 3
        }
      ]
    },
    {
      "cell_type": "code",
      "metadata": {
        "id": "uETsVzQqqvkT",
        "colab": {
          "base_uri": "https://localhost:8080/"
        },
        "outputId": "a7d296ce-a164-4ef2-ee4a-723d203176b8"
      },
      "source": [
        "# Proportion of students that are male\n",
        "1-_"
      ],
      "execution_count": 4,
      "outputs": [
        {
          "output_type": "execute_result",
          "data": {
            "text/plain": [
              "0.486"
            ]
          },
          "metadata": {
            "tags": []
          },
          "execution_count": 4
        }
      ]
    },
    {
      "cell_type": "code",
      "metadata": {
        "id": "KvjgVQ63qvkU",
        "colab": {
          "base_uri": "https://localhost:8080/"
        },
        "outputId": "20f2d2a5-374f-4a92-f081-8d06abe12e37"
      },
      "source": [
        "# Admission rate for females\n",
        "df[df['gender']=='female']['admitted'].mean()"
      ],
      "execution_count": 5,
      "outputs": [
        {
          "output_type": "execute_result",
          "data": {
            "text/plain": [
              "0.28793774319066145"
            ]
          },
          "metadata": {
            "tags": []
          },
          "execution_count": 5
        }
      ]
    },
    {
      "cell_type": "code",
      "metadata": {
        "id": "3v7wJaspqvkU",
        "colab": {
          "base_uri": "https://localhost:8080/"
        },
        "outputId": "be80eff1-6dd6-4789-d891-3707d20e515b"
      },
      "source": [
        "# Admission rate for males\n",
        "df[df['gender']=='male']['admitted'].mean()"
      ],
      "execution_count": 12,
      "outputs": [
        {
          "output_type": "execute_result",
          "data": {
            "text/plain": [
              "0.48559670781893005"
            ]
          },
          "metadata": {
            "tags": []
          },
          "execution_count": 12
        }
      ]
    },
    {
      "cell_type": "markdown",
      "metadata": {
        "id": "hWvPBWhmqvkV"
      },
      "source": [
        "### Proportion and admission rate for physics majors of each gender"
      ]
    },
    {
      "cell_type": "code",
      "metadata": {
        "id": "2ToCo5LeqvkW",
        "colab": {
          "base_uri": "https://localhost:8080/"
        },
        "outputId": "b836b1a5-331e-4a5e-e227-ceab42bce6c5"
      },
      "source": [
        "# What proportion of female students are majoring in physics?\n",
        "len(df[(df['gender']=='female')&(df['major']=='Physics')])/len(df[df['gender']=='female'])"
      ],
      "execution_count": 23,
      "outputs": [
        {
          "output_type": "execute_result",
          "data": {
            "text/plain": [
              "0.12062256809338522"
            ]
          },
          "metadata": {
            "tags": []
          },
          "execution_count": 23
        }
      ]
    },
    {
      "cell_type": "code",
      "metadata": {
        "id": "G_tvUxCCqvkW",
        "colab": {
          "base_uri": "https://localhost:8080/"
        },
        "outputId": "f166a75f-638b-401b-cabd-a8d553f47c77"
      },
      "source": [
        "# What proportion of male students are majoring in physics?\n",
        "len(df[(df['gender']=='male')&(df['major']=='Physics')])/len(df[df['gender']=='male'])"
      ],
      "execution_count": 24,
      "outputs": [
        {
          "output_type": "execute_result",
          "data": {
            "text/plain": [
              "0.9259259259259259"
            ]
          },
          "metadata": {
            "tags": []
          },
          "execution_count": 24
        }
      ]
    },
    {
      "cell_type": "code",
      "metadata": {
        "id": "7lYhQ91bqvkX",
        "colab": {
          "base_uri": "https://localhost:8080/"
        },
        "outputId": "d588653f-9c02-443b-9f39-ab90aabcdaaa"
      },
      "source": [
        "# Admission rate for female physics majors\n",
        "fem_phy_adm = df.query('gender == \"female\" and major ==\"Physics\" and admitted ==True ').count()[0]\n",
        "fem_phy = df.query('gender == \"female\" and major ==\"Physics\"').count()[0]\n",
        "fem_phy_adm/fem_phy"
      ],
      "execution_count": 26,
      "outputs": [
        {
          "output_type": "execute_result",
          "data": {
            "text/plain": [
              "0.7419354838709677"
            ]
          },
          "metadata": {
            "tags": []
          },
          "execution_count": 26
        }
      ]
    },
    {
      "cell_type": "code",
      "metadata": {
        "id": "hJsCJYPWqvkX",
        "colab": {
          "base_uri": "https://localhost:8080/"
        },
        "outputId": "a54786b5-4407-425c-a780-fdca24200f94"
      },
      "source": [
        "# Admission rate for male physics majors\n",
        "mal_phy_adm = df.query(' gender ==\"male\" and major==\"Physics\" and admitted == True').count()[0]\n",
        "mal_phy=df.query('gender ==\"male\" and major==\"Physics\"').count()[0]\n",
        "mal_phy_adm/mal_phy"
      ],
      "execution_count": 27,
      "outputs": [
        {
          "output_type": "execute_result",
          "data": {
            "text/plain": [
              "0.5155555555555555"
            ]
          },
          "metadata": {
            "tags": []
          },
          "execution_count": 27
        }
      ]
    },
    {
      "cell_type": "markdown",
      "metadata": {
        "id": "nWm7u1qxqvkY"
      },
      "source": [
        "### Proportion and admission rate for chemistry majors of each gender"
      ]
    },
    {
      "cell_type": "code",
      "metadata": {
        "id": "KGr6KHQOqvkY",
        "colab": {
          "base_uri": "https://localhost:8080/"
        },
        "outputId": "9cd1eb3f-df3a-49b6-a219-25fd1a4645be"
      },
      "source": [
        "# What proportion of female students are majoring in chemistry?\n",
        "df.query('gender ==\"female\" and major == \"Chemistry\" ').count()[0]/len(df[df['gender']=='female'])"
      ],
      "execution_count": 29,
      "outputs": [
        {
          "output_type": "execute_result",
          "data": {
            "text/plain": [
              "0.8793774319066148"
            ]
          },
          "metadata": {
            "tags": []
          },
          "execution_count": 29
        }
      ]
    },
    {
      "cell_type": "code",
      "metadata": {
        "id": "qTOLWKa-qvkY",
        "colab": {
          "base_uri": "https://localhost:8080/"
        },
        "outputId": "4481701a-15a8-447f-a534-8ad478bfbeb4"
      },
      "source": [
        "# What proportion of male students are majoring in chemistry?\n",
        "df.query('gender ==\"male\" and major == \"Chemistry\" ').count()[0]/len(df[df['gender']=='male'])"
      ],
      "execution_count": 30,
      "outputs": [
        {
          "output_type": "execute_result",
          "data": {
            "text/plain": [
              "0.07407407407407407"
            ]
          },
          "metadata": {
            "tags": []
          },
          "execution_count": 30
        }
      ]
    },
    {
      "cell_type": "code",
      "metadata": {
        "id": "n55OGP9FqvkZ",
        "colab": {
          "base_uri": "https://localhost:8080/"
        },
        "outputId": "b3876ed6-5a08-42f5-ce5f-99b0efb22966"
      },
      "source": [
        "# Admission rate for female chemistry majors\n",
        "fem_che_adm = df.query('gender == \"female\" and major ==\"Chemistry\" and admitted ==True ').count()[0]\n",
        "fem_che = df.query('gender == \"female\" and major ==\"Chemistry\"').count()[0]\n",
        "fem_che_adm/fem_che"
      ],
      "execution_count": 32,
      "outputs": [
        {
          "output_type": "execute_result",
          "data": {
            "text/plain": [
              "0.22566371681415928"
            ]
          },
          "metadata": {
            "tags": []
          },
          "execution_count": 32
        }
      ]
    },
    {
      "cell_type": "code",
      "metadata": {
        "id": "D-94sj7jqvka",
        "colab": {
          "base_uri": "https://localhost:8080/"
        },
        "outputId": "fcf4d51f-dccd-4540-c952-dc8c09eec386"
      },
      "source": [
        "# Admission rate for male chemistry majors\n",
        "male_che_adm = df.query('gender == \"male\" and major ==\"Chemistry\" and admitted ==True ').count()[0]\n",
        "male_che = df.query('gender == \"male\" and major ==\"Chemistry\"').count()[0]\n",
        "male_che_adm/male_che"
      ],
      "execution_count": 33,
      "outputs": [
        {
          "output_type": "execute_result",
          "data": {
            "text/plain": [
              "0.1111111111111111"
            ]
          },
          "metadata": {
            "tags": []
          },
          "execution_count": 33
        }
      ]
    },
    {
      "cell_type": "markdown",
      "metadata": {
        "id": "EZj_FYttqvkb"
      },
      "source": [
        "### Admission rate for each major"
      ]
    },
    {
      "cell_type": "code",
      "metadata": {
        "id": "jA7xR6e5qvkb",
        "colab": {
          "base_uri": "https://localhost:8080/"
        },
        "outputId": "250201eb-179b-46ea-86c2-0b286cff83bf"
      },
      "source": [
        "# Admission rate for physics majors\n",
        "df[df['major']=='Physics']['admitted'].mean()"
      ],
      "execution_count": 34,
      "outputs": [
        {
          "output_type": "execute_result",
          "data": {
            "text/plain": [
              "0.54296875"
            ]
          },
          "metadata": {
            "tags": []
          },
          "execution_count": 34
        }
      ]
    },
    {
      "cell_type": "code",
      "metadata": {
        "id": "UrZF2wAUqvkc",
        "colab": {
          "base_uri": "https://localhost:8080/"
        },
        "outputId": "5368281d-16ba-4d48-af04-211468c2ee55"
      },
      "source": [
        "# Admission rate for chemistry majors\n",
        "df[df['major']=='Chemistry']['admitted'].mean()"
      ],
      "execution_count": 35,
      "outputs": [
        {
          "output_type": "execute_result",
          "data": {
            "text/plain": [
              "0.21721311475409835"
            ]
          },
          "metadata": {
            "tags": []
          },
          "execution_count": 35
        }
      ]
    },
    {
      "cell_type": "code",
      "metadata": {
        "id": "JMdMnBeMqvkc"
      },
      "source": [
        ""
      ],
      "execution_count": null,
      "outputs": []
    }
  ]
}